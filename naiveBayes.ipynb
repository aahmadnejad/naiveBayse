{
 "cells": [
  {
   "cell_type": "code",
   "execution_count": 5,
   "metadata": {},
   "outputs": [],
   "source": [
    "import pandas as pd\n",
    "import numpy as np\n",
    "from scipy.stats import norm"
   ]
  },
  {
   "cell_type": "code",
   "execution_count": 6,
   "metadata": {},
   "outputs": [],
   "source": [
    "df = pd.read_excel (r'C:\\Users\\aahr1\\Documents\\Jupyter Notebook\\NaiveBayes\\dataSet.xlsx')"
   ]
  },
  {
   "cell_type": "code",
   "execution_count": 7,
   "metadata": {
    "scrolled": true
   },
   "outputs": [],
   "source": [
    "features=df.iloc[:,:len(df.columns)-1]\n",
    "lables=df.loc[:,'label'].eq(1)"
   ]
  },
  {
   "cell_type": "code",
   "execution_count": 8,
   "metadata": {},
   "outputs": [],
   "source": [
    "ms=np.empty([len(features.columns),4])"
   ]
  },
  {
   "cell_type": "code",
   "execution_count": 9,
   "metadata": {
    "scrolled": true
   },
   "outputs": [],
   "source": [
    "for i in range(len(features.columns)):    \n",
    "            \n",
    "    a=features.iloc[np.where(lables==False)].iloc[:,i]\n",
    "    b=features.iloc[np.where(lables==True)].iloc[:,i]\n",
    "    \n",
    "    mu0=np.mean(a)\n",
    "    std0=np.std(a)\n",
    "    \n",
    "    mu1=np.mean(b)\n",
    "    std1=np.std(b)\n",
    "    \n",
    "    ms[i,:]=[mu0,std0,mu1,std1]"
   ]
  },
  {
   "cell_type": "code",
   "execution_count": 11,
   "metadata": {},
   "outputs": [
    {
     "name": "stdout",
     "output_type": "stream",
     "text": [
      "[[ 94.66666667   3.68178701 109.5          6.23832242]\n",
      " [ 14.33333333   0.81952561  16.27833333   0.64092165]\n",
      " [ 13.91666667   1.12422813  17.12166667   0.74599859]]\n"
     ]
    }
   ],
   "source": [
    "print(ms)\n",
    "test=[100  ,  16.22, 17.25]"
   ]
  },
  {
   "cell_type": "code",
   "execution_count": 33,
   "metadata": {},
   "outputs": [],
   "source": [
    "norm0,norm1=1,1"
   ]
  },
  {
   "cell_type": "code",
   "execution_count": 34,
   "metadata": {},
   "outputs": [],
   "source": [
    "for i in range(len(ms)):\n",
    "    norm0*=norm.pdf(test[i], loc=ms[i,0], scale=ms[i,1])\n",
    "    norm1*=norm.pdf(test[i], loc=ms[i,2], scale=ms[i,3])"
   ]
  },
  {
   "cell_type": "code",
   "execution_count": 35,
   "metadata": {},
   "outputs": [],
   "source": [
    "p0=np.sum(df.loc[:,'label']==0)/len(df)\n",
    "p1=np.sum(df.loc[:,'label']==1)/len(df)"
   ]
  },
  {
   "cell_type": "code",
   "execution_count": 36,
   "metadata": {},
   "outputs": [
    {
     "name": "stdout",
     "output_type": "stream",
     "text": [
      "az class 1\n"
     ]
    }
   ],
   "source": [
    "if norm0*p0 > norm1*p1:\n",
    "    print('az class 0')\n",
    "else:\n",
    "    print('az class 1')"
   ]
  },
  {
   "cell_type": "code",
   "execution_count": null,
   "metadata": {},
   "outputs": [],
   "source": []
  }
 ],
 "metadata": {
  "kernelspec": {
   "display_name": "Python 3",
   "language": "python",
   "name": "python3"
  },
  "language_info": {
   "codemirror_mode": {
    "name": "ipython",
    "version": 3
   },
   "file_extension": ".py",
   "mimetype": "text/x-python",
   "name": "python",
   "nbconvert_exporter": "python",
   "pygments_lexer": "ipython3",
   "version": "3.8.3"
  }
 },
 "nbformat": 4,
 "nbformat_minor": 4
}
